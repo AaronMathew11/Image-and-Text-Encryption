{
 "cells": [
  {
   "cell_type": "markdown",
   "metadata": {},
   "source": [
    "# Text Encryption using user defined Key"
   ]
  },
  {
   "cell_type": "markdown",
   "metadata": {},
   "source": [
    "### Generating an Encryption key"
   ]
  },
  {
   "cell_type": "code",
   "execution_count": 1,
   "metadata": {},
   "outputs": [],
   "source": [
    "a=input(\"Enter key you want to use for encryption. It can be any combination of English alphabets or mathematical numerical value (max-length should be 36 chars): \")\n",
    "b=\"abcdefghijklmnopqrstuvwxyz0123456789\"\n",
    "c=[]\n",
    "for i in range(len(a)):\n",
    "    if a[i] not in c:\n",
    "        c.append(a[i])\n",
    "for j in range(len(b)):\n",
    "    if b[j] not in a:\n",
    "        c.append(b[j])\n",
    "d=[]\n",
    "for i in range(0,35,6):\n",
    "    d.append(c[i:i+6])"
   ]
  },
  {
   "cell_type": "markdown",
   "metadata": {},
   "source": [
    "### Encrypting a text using the above provided key"
   ]
  },
  {
   "cell_type": "code",
   "execution_count": 2,
   "metadata": {},
   "outputs": [
    {
     "name": "stdout",
     "output_type": "stream",
     "text": [
      "Encrypted message: fsmzxejcepg\n"
     ]
    }
   ],
   "source": [
    "def search(char,d):\n",
    "    for i in range(0,6):\n",
    "        for j in range(0,6):\n",
    "            if d[i][j]==char:\n",
    "                return i,j\n",
    "\n",
    "n=input(\"Enter the text (in lowercase) you want to encrypt: \")\n",
    "l=0\n",
    "m=0\n",
    "p=\"\"\n",
    "while(m<len(n)):\n",
    "    if m==len(n)-1:\n",
    "        p+=n[m]\n",
    "    else:\n",
    "        q,r,s,t=search(n[m],d)[0],search(n[m],d)[1],search(n[m+1],d)[0],search(n[m+1],d)[1]\n",
    "        if n[m]==n[m+1]:\n",
    "            p=p+n[m]+\"@\"\n",
    "\n",
    "        elif q==s:\n",
    "            p=p+d[q][(r+1)%6]+d[s][(t+1)%6]\n",
    "\n",
    "        elif r==t:\n",
    "            p=p+d[(q+1)%6][r]+d[(s+1)%6][t]\n",
    "\n",
    "        else:\n",
    "            p=p+d[q][t]+d[s][r]\n",
    "    m=m+2\n",
    "        \n",
    "print(\"Encrypted message: \"+ p)"
   ]
  },
  {
   "cell_type": "markdown",
   "metadata": {},
   "source": [
    "### Decrypting the encrypted message using the key provided"
   ]
  },
  {
   "cell_type": "code",
   "execution_count": 3,
   "metadata": {},
   "outputs": [
    {
     "name": "stdout",
     "output_type": "stream",
     "text": [
      "Decrypted message: dhruvisking\n"
     ]
    }
   ],
   "source": [
    "n=p\n",
    "m=0\n",
    "p=\"\"\n",
    "while(m<len(n)):\n",
    "    if m==len(n)-1:\n",
    "        p+=n[m]\n",
    "    elif n[m]==\"@\" or n[m+1]==\"@\":\n",
    "        if n[m]!=\"@\":\n",
    "            p+=n[m]+n[m]\n",
    "            \n",
    "        else:\n",
    "            p+=n[m+1]+n[m+1]\n",
    "            \n",
    "    else:\n",
    "        q,r,s,t=search(n[m],d)[0],search(n[m],d)[1],search(n[m+1],d)[0],search(n[m+1],d)[1]\n",
    "    \n",
    "        if q==s:\n",
    "            p=p+d[q][(r-1)%6]+d[s][(t-1)%6]\n",
    "            \n",
    "        elif r==t:\n",
    "            p=p+d[(q-1)%6][r]+d[(s-1)%6][t]\n",
    "            \n",
    "        else:\n",
    "            p=p+d[q][t]+d[s][r]\n",
    "    m=m+2\n",
    "        \n",
    "print(\"Decrypted message: \"+p)"
   ]
  }
 ],
 "metadata": {
  "kernelspec": {
   "display_name": "Python 3",
   "language": "python",
   "name": "python3"
  },
  "language_info": {
   "codemirror_mode": {
    "name": "ipython",
    "version": 3
   },
   "file_extension": ".py",
   "mimetype": "text/x-python",
   "name": "python",
   "nbconvert_exporter": "python",
   "pygments_lexer": "ipython3",
   "version": "3.9.6"
  }
 },
 "nbformat": 4,
 "nbformat_minor": 2
}
